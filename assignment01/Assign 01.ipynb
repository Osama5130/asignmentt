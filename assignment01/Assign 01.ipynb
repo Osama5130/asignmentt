{
 "cells": [
  {
   "cell_type": "markdown",
   "metadata": {},
   "source": [
    "# Q#01:Write python program to check whether the number is positive or negative."
   ]
  },
  {
   "cell_type": "code",
   "execution_count": 6,
   "metadata": {},
   "outputs": [
    {
     "name": "stdout",
     "output_type": "stream",
     "text": [
      "Enter the number -0.2\n",
      "The number is Negative\n"
     ]
    }
   ],
   "source": [
    "user = float(input(\"Enter the number \"))\n",
    "\n",
    "if (user >= 0):\n",
    "    print(\"The number is Positive\")\n",
    "else:\n",
    "    print(\"The number is Negative\")"
   ]
  },
  {
   "cell_type": "code",
   "execution_count": null,
   "metadata": {},
   "outputs": [],
   "source": []
  },
  {
   "cell_type": "markdown",
   "metadata": {},
   "source": [
    "# Q#02:Write a python program to take in the marks of 5 subjects and display the grade"
   ]
  },
  {
   "cell_type": "code",
   "execution_count": 19,
   "metadata": {},
   "outputs": [
    {
     "name": "stdout",
     "output_type": "stream",
     "text": [
      "Enter the marks of Mathematics 100\n",
      "Enter the marks of Science 80\n",
      "Enter the marks of Urdu 85\n",
      "Enter the marks of Islamiat 75\n",
      "Enter the marks of English 100\n",
      "the average marks are 88.0\n",
      "Your grade is A \n"
     ]
    }
   ],
   "source": [
    "a = float(input(\"Enter the marks of Mathematics \"))    # marks out of 100 \n",
    "b = float(input(\"Enter the marks of Science \"))        # marks out of 100\n",
    "c = float(input(\"Enter the marks of Urdu \"))           # marks out of 100  \n",
    "d = float(input(\"Enter the marks of Islamiat \"))       # marks out of 100\n",
    "e = float(input(\"Enter the marks of English \"))        # marks out of 100\n",
    "\n",
    "\n",
    "avg = (a+b+c+d+e) / 5\n",
    "print(\"the average marks are\" , avg)\n",
    "\n",
    "if avg in range (80,101):\n",
    "    print(\"Your grade is A \")\n",
    "elif avg in range (65,80):\n",
    "    print(\"Your grade is B \")\n",
    "elif avg in range (55,65):\n",
    "    print(\"Your grade is C \")\n",
    "elif avg in range (50,55):\n",
    "    print(\"Your grade is D \")\n",
    "else:\n",
    "    print(\"Your grade is F, \" \n",
    "          \"better luck next time\")"
   ]
  },
  {
   "cell_type": "code",
   "execution_count": null,
   "metadata": {},
   "outputs": [],
   "source": []
  },
  {
   "cell_type": "markdown",
   "metadata": {},
   "source": [
    "# Q#03:Write a python program to read two numbers annd printt their quotient annd remainder"
   ]
  },
  {
   "cell_type": "code",
   "execution_count": 25,
   "metadata": {},
   "outputs": [
    {
     "name": "stdout",
     "output_type": "stream",
     "text": [
      "enter 1st number 11\n",
      "enter 2nd number 5\n",
      "Their quotient is  2.2\n",
      "Their remainder is  1\n"
     ]
    }
   ],
   "source": [
    "a = int(input(\"enter 1st number \"))\n",
    "b = int(input(\"enter 2nd number \"))\n",
    "\n",
    "quotient = a/b\n",
    "remainder = a%b\n",
    "\n",
    "print(\"Their quotient is \" , quotient)\n",
    "print(\"Their remainder is \" , remainder)"
   ]
  },
  {
   "cell_type": "code",
   "execution_count": null,
   "metadata": {},
   "outputs": [],
   "source": []
  },
  {
   "cell_type": "markdown",
   "metadata": {},
   "source": [
    "# Q#04:Write a python program to print all integers that are'nt divisible by either 2 or 3 and lie between 1 and 50"
   ]
  },
  {
   "cell_type": "code",
   "execution_count": 1,
   "metadata": {
    "scrolled": true
   },
   "outputs": [],
   "source": [
    "for i in range(0,51):\n",
    "    if(i%2!=0&i%3!=0):\n",
    "        print(i)\n",
    "        "
   ]
  },
  {
   "cell_type": "code",
   "execution_count": null,
   "metadata": {},
   "outputs": [],
   "source": []
  },
  {
   "cell_type": "markdown",
   "metadata": {},
   "source": [
    "# Q#05:Write a python program to exchange the values of two numbers without using a temporary variable "
   ]
  },
  {
   "cell_type": "code",
   "execution_count": 19,
   "metadata": {},
   "outputs": [
    {
     "name": "stdout",
     "output_type": "stream",
     "text": [
      "enter the 1st number 10\n",
      "enter the 2nd number 5\n",
      "5\n",
      "10\n"
     ]
    }
   ],
   "source": [
    "a = int(input(\"enter the 1st number \" ))\n",
    "b = int(input(\"enter the 2nd number \" ))\n",
    "\n",
    "a = a + b\n",
    "b = a - b\n",
    "a = -(b - a)\n",
    "\n",
    "print(a)\n",
    "print(b)"
   ]
  },
  {
   "cell_type": "code",
   "execution_count": null,
   "metadata": {},
   "outputs": [],
   "source": []
  },
  {
   "cell_type": "markdown",
   "metadata": {},
   "source": [
    "# Q#06:Write a python program to find the area of triangle using heron's formula"
   ]
  },
  {
   "cell_type": "code",
   "execution_count": 29,
   "metadata": {},
   "outputs": [
    {
     "name": "stdout",
     "output_type": "stream",
     "text": [
      "enter the length of first side 8\n",
      "enter the length of second side 6\n",
      "enter the length of third side 4\n",
      "9.0\n",
      "The area of triangle is  11.61895003862225 m^2\n"
     ]
    }
   ],
   "source": [
    "a = int(input(\"enter the length of first side \"))\n",
    "b = int(input(\"enter the length of second side \"))\n",
    "c = int(input(\"enter the length of third side \"))\n",
    "\n",
    "s = (a+b+c)/2\n",
    "print(s)\n",
    "Area = (s*(s-a)*(s-b)*(s-c))**0.5\n",
    "\n",
    "print(\"The area of triangle is \" , Area , \"m^2\" )"
   ]
  },
  {
   "cell_type": "code",
   "execution_count": null,
   "metadata": {},
   "outputs": [],
   "source": []
  },
  {
   "cell_type": "markdown",
   "metadata": {},
   "source": [
    "# Q#07:Write a python program to print largest even and largest odd number from the list"
   ]
  },
  {
   "cell_type": "code",
   "execution_count": 71,
   "metadata": {},
   "outputs": [
    {
     "name": "stdout",
     "output_type": "stream",
     "text": [
      "How many elements you want to add in list 7\n",
      "085\n",
      "1100\n",
      "226\n",
      "317\n",
      "445\n",
      "587\n",
      "655\n",
      "The list entered by user is:: [85, 100, 26, 17, 45, 87, 55]\n",
      "even list  [100, 26]\n",
      "odd list  [85, 17, 45, 87, 55]\n",
      "length of even list ==> 2\n",
      "length of odd list ==> 5\n",
      "Largest even number: 100\n",
      "Largest odd number: 87\n"
     ]
    }
   ],
   "source": [
    "user = int(input(\"How many elements you want to add in list \"))\n",
    "list=[]\n",
    "for i in range(0 , user):\n",
    "    a= int(input(i) )\n",
    "    list.append(a)\n",
    "print(\"The list entered by user is::\" , list)    \n",
    "even=[]\n",
    "odd=[]\n",
    "for j in list:\n",
    "    if(j%2==0):\n",
    "        even.append(j)\n",
    "    else:\n",
    "        odd.append(j)\n",
    "        \n",
    "print(\"even list \" , even )\n",
    "print(\"odd list \" , odd )\n",
    "\n",
    "even.sort()\n",
    "odd.sort()\n",
    "x=len(even)\n",
    "y=len(odd)\n",
    "\n",
    "print(\"length of even list ==>\" , x)\n",
    "print(\"length of odd list ==>\", y)\n",
    "print(\"Largest even number:\",even[x-1])\n",
    "print(\"Largest odd number:\",odd[y-1])\n",
    "\n",
    "\n"
   ]
  },
  {
   "cell_type": "code",
   "execution_count": null,
   "metadata": {},
   "outputs": [],
   "source": [
    "\n"
   ]
  },
  {
   "cell_type": "markdown",
   "metadata": {},
   "source": [
    "# Q#08:Write python program to find the second largest number in the list"
   ]
  },
  {
   "cell_type": "code",
   "execution_count": 2,
   "metadata": {},
   "outputs": [
    {
     "name": "stdout",
     "output_type": "stream",
     "text": [
      "How many elements you want to add in list 8\n",
      "045\n",
      "174\n",
      "212\n",
      "352\n",
      "484\n",
      "5100\n",
      "631\n",
      "722\n",
      "The sorted list is: [12, 22, 31, 45, 52, 74, 84, 100]\n",
      "The second largest number is: 84\n"
     ]
    }
   ],
   "source": [
    "user = int(input(\"How many elements you want to add in list \"))\n",
    "list=[]\n",
    "for i in range(0 , user):\n",
    "    a= int(input(i) )\n",
    "    list.append(a)\n",
    "\n",
    "list.sort()\n",
    "length=len(list)\n",
    "print(\"The sorted list is:\" , list)    \n",
    "print(\"The second largest number is:\" , list[length - 2])"
   ]
  },
  {
   "cell_type": "code",
   "execution_count": null,
   "metadata": {},
   "outputs": [],
   "source": []
  },
  {
   "cell_type": "markdown",
   "metadata": {},
   "source": [
    "# Q#09Write python program to find union of two sets"
   ]
  },
  {
   "cell_type": "code",
   "execution_count": 10,
   "metadata": {
    "scrolled": true
   },
   "outputs": [
    {
     "name": "stdout",
     "output_type": "stream",
     "text": [
      "How many elements you want to add in list1 4\n",
      "For list 1 \n",
      "01\n",
      "12\n",
      "23\n",
      "34\n",
      "How many elements you want to add in list2 4\n",
      "For list 2 \n",
      "02\n",
      "14\n",
      "26\n",
      "38\n",
      "The union is :\n",
      "{1, 2, 3, 4, 6, 8}\n"
     ]
    }
   ],
   "source": [
    "def union(a, b):\n",
    "    return list(set(a) | set(b))\n",
    "\n",
    "def main():\n",
    "    list1=[]\n",
    "    user = int(input(\"How many elements you want to add in list1 \"))\n",
    "    print(\"For list 1 \")\n",
    "    for i in range(0 , user):\n",
    "        a= int(input(i) )\n",
    "        list1.append(a)\n",
    "\n",
    "    list2=[]    \n",
    "    ssc = int(input(\"How many elements you want to add in list2 \"))\n",
    "    print(\"For list 2 \")\n",
    "    for i in range(0 , ssc):\n",
    "        b= int(input(i) )\n",
    "        list2.append(b)\n",
    "    #z=[]\n",
    "    z=union(list1 , list2 ) \n",
    "    x = set(z)\n",
    "    print(\"The union is :\")    \n",
    "    print(x)\n",
    "main()"
   ]
  },
  {
   "cell_type": "code",
   "execution_count": null,
   "metadata": {},
   "outputs": [],
   "source": []
  }
 ],
 "metadata": {
  "kernelspec": {
   "display_name": "Python 3",
   "language": "python",
   "name": "python3"
  },
  "language_info": {
   "codemirror_mode": {
    "name": "ipython",
    "version": 3
   },
   "file_extension": ".py",
   "mimetype": "text/x-python",
   "name": "python",
   "nbconvert_exporter": "python",
   "pygments_lexer": "ipython3",
   "version": "3.7.4"
  }
 },
 "nbformat": 4,
 "nbformat_minor": 2
}
